{
  "nbformat": 4,
  "nbformat_minor": 0,
  "metadata": {
    "colab": {
      "provenance": [],
      "authorship_tag": "ABX9TyMAlA4EZPCFLWwr7y+hzqCa",
      "include_colab_link": true
    },
    "kernelspec": {
      "name": "python3",
      "display_name": "Python 3"
    },
    "language_info": {
      "name": "python"
    }
  },
  "cells": [
    {
      "cell_type": "markdown",
      "metadata": {
        "id": "view-in-github",
        "colab_type": "text"
      },
      "source": [
        "<a href=\"https://colab.research.google.com/github/HamudiHasan/teaching/blob/main/Monte_Carlo_Simulation.ipynb\" target=\"_parent\"><img src=\"https://colab.research.google.com/assets/colab-badge.svg\" alt=\"Open In Colab\"/></a>"
      ]
    },
    {
      "cell_type": "code",
      "execution_count": 6,
      "metadata": {
        "colab": {
          "base_uri": "https://localhost:8080/"
        },
        "id": "dV5CphRALbeb",
        "outputId": "ec8f5b74-deb1-4ccf-87bd-58673e5ba50e"
      },
      "outputs": [
        {
          "output_type": "stream",
          "name": "stdout",
          "text": [
            "Estimated value of pi: 3.14832\n"
          ]
        }
      ],
      "source": [
        "import random\n",
        "\n",
        "# Number of points to generate\n",
        "n = 100000\n",
        "\n",
        "# Count of points inside the circle\n",
        "count_inside = 0\n",
        "\n",
        "for i in range(n):\n",
        "    x = random.uniform(-1, 1)\n",
        "    y = random.uniform(-1, 1)\n",
        "    if x**2 + y**2 <= 1:\n",
        "        count_inside += 1\n",
        "\n",
        "pi_estimate = 4 * count_inside / n\n",
        "\n",
        "print(\"Estimated value of pi:\", pi_estimate)\n"
      ]
    },
    {
      "cell_type": "code",
      "source": [
        "import random\n",
        "import matplotlib.pyplot as plt\n",
        "\n",
        "# Number of points to generate\n",
        "n = 10000\n",
        "\n",
        "# Count of points inside the circle\n",
        "count_inside = 0\n",
        "\n",
        "# Generate n random points inside a square of side 2\n",
        "# and count how many fall inside the quarter-circle\n",
        "# of radius 1 centered at the origin\n",
        "x_inside = []\n",
        "y_inside = []\n",
        "x_outside = []\n",
        "y_outside = []\n",
        "\n",
        "for i in range(n):\n",
        "    x = random.uniform(-1, 1)\n",
        "    y = random.uniform(-1, 1)\n",
        "    if x**2 + y**2 <= 1:\n",
        "        count_inside += 1\n",
        "        x_inside.append(x)\n",
        "        y_inside.append(y)\n",
        "    else:\n",
        "        x_outside.append(x)\n",
        "        y_outside.append(y)\n",
        "\n",
        "# Estimate pi as the ratio of points inside the quarter-circle\n",
        "# to the total number of points generated, multiplied by 4\n",
        "pi_estimate = 4 * count_inside / n\n",
        "\n",
        "# Plot the results\n",
        "fig, ax = plt.subplots()\n",
        "circle = plt.Circle((0,0), 1, fill=False)\n",
        "ax.add_artist(circle)\n",
        "ax.scatter(x_inside, y_inside, color='red')\n",
        "ax.scatter(x_outside, y_outside, color='green')\n",
        "ax.set_xlim(-1.1, 1.1)\n",
        "ax.set_ylim(-1.1, 1.1)\n",
        "ax.set_aspect('equal', adjustable='box')\n",
        "plt.title(f\"Estimated value of pi: {pi_estimate:.4f}\")\n",
        "plt.show()\n"
      ],
      "metadata": {
        "colab": {
          "base_uri": "https://localhost:8080/",
          "height": 281
        },
        "id": "mSMaeWpLM9AC",
        "outputId": "48756ebc-9d70-4c72-914a-cb1b5d96d8a3"
      },
      "execution_count": 11,
      "outputs": [
        {
          "output_type": "display_data",
          "data": {
            "text/plain": [
              "<Figure size 432x288 with 1 Axes>"
            ],
            "image/png": "[encoded data removed]"
          },
          "metadata": {
            "needs_background": "light"
          }
        }
      ]
    },
    {
      "cell_type": "code",
      "source": [
        "import random\n",
        "import matplotlib.pyplot as plt\n",
        "\n",
        "n = 10000\n",
        "num_iterations = 100\n",
        "count_inside_cumulative = 0\n",
        "num_points_cumulative = 0\n",
        "pi_estimates = []\n",
        "\n",
        "for i in range(num_iterations):\n",
        "    count_inside = 0\n",
        "    for j in range(n):\n",
        "        x = random.uniform(-1, 1)\n",
        "        y = random.uniform(-1, 1)\n",
        "        if x**2 + y**2 <= 1:\n",
        "            count_inside += 1\n",
        "    count_inside_cumulative += count_inside\n",
        "    num_points_cumulative += n\n",
        "    pi_estimate = 4 * count_inside_cumulative / num_points_cumulative\n",
        "    pi_estimates.append(pi_estimate)\n",
        "\n",
        "    print(f\"Iteration {i+1}: Estimated value of pi: {pi_estimate:.6f}\")\n",
        "\n",
        "print(f\"Final estimated value of pi after {num_iterations} iterations: {pi_estimate:.6f}\")\n",
        "\n",
        "plt.plot(pi_estimates)\n",
        "plt.xlabel(\"Iteration\")\n",
        "plt.ylabel(\"Estimated Value of Pi\")\n",
        "plt.title(\"Monte Carlo Simulation for Estimating Pi\")\n",
        "plt.show()\n"
      ],
      "metadata": {
        "colab": {
          "base_uri": "https://localhost:8080/",
          "height": 1000
        },
        "id": "FWBNf_NxPyEb",
        "outputId": "b1dea511-d080-4337-fbc0-c0f664fea2ec"
      },
      "execution_count": 19,
      "outputs": [
        {
          "output_type": "stream",
          "name": "stdout",
          "text": [
            "Iteration 1: Estimated value of pi: 3.130400\n",
            "Iteration 2: Estimated value of pi: 3.120400\n",
            "Iteration 3: Estimated value of pi: 3.127867\n",
            "Iteration 4: Estimated value of pi: 3.128000\n",
            "Iteration 5: Estimated value of pi: 3.129040\n",
            "Iteration 6: Estimated value of pi: 3.137267\n",
            "Iteration 7: Estimated value of pi: 3.135657\n",
            "Iteration 8: Estimated value of pi: 3.133300\n",
            "Iteration 9: Estimated value of pi: 3.134311\n",
            "Iteration 10: Estimated value of pi: 3.133360\n",
            "Iteration 11: Estimated value of pi: 3.129891\n",
            "Iteration 12: Estimated value of pi: 3.130367\n",
            "Iteration 13: Estimated value of pi: 3.132062\n",
            "Iteration 14: Estimated value of pi: 3.133486\n",
            "Iteration 15: Estimated value of pi: 3.134187\n",
            "Iteration 16: Estimated value of pi: 3.135925\n",
            "Iteration 17: Estimated value of pi: 3.134871\n",
            "Iteration 18: Estimated value of pi: 3.133756\n",
            "Iteration 19: Estimated value of pi: 3.132316\n",
            "Iteration 20: Estimated value of pi: 3.132020\n",
            "Iteration 21: Estimated value of pi: 3.131676\n",
            "Iteration 22: Estimated value of pi: 3.132218\n",
            "Iteration 23: Estimated value of pi: 3.132052\n",
            "Iteration 24: Estimated value of pi: 3.131283\n",
            "Iteration 25: Estimated value of pi: 3.131536\n",
            "Iteration 26: Estimated value of pi: 3.133015\n",
            "Iteration 27: Estimated value of pi: 3.133793\n",
            "Iteration 28: Estimated value of pi: 3.133371\n",
            "Iteration 29: Estimated value of pi: 3.133655\n",
            "Iteration 30: Estimated value of pi: 3.133160\n",
            "Iteration 31: Estimated value of pi: 3.133626\n",
            "Iteration 32: Estimated value of pi: 3.135050\n",
            "Iteration 33: Estimated value of pi: 3.135333\n",
            "Iteration 34: Estimated value of pi: 3.134659\n",
            "Iteration 35: Estimated value of pi: 3.135383\n",
            "Iteration 36: Estimated value of pi: 3.135489\n",
            "Iteration 37: Estimated value of pi: 3.135816\n",
            "Iteration 38: Estimated value of pi: 3.135758\n",
            "Iteration 39: Estimated value of pi: 3.136031\n",
            "Iteration 40: Estimated value of pi: 3.135700\n",
            "Iteration 41: Estimated value of pi: 3.136468\n",
            "Iteration 42: Estimated value of pi: 3.136933\n",
            "Iteration 43: Estimated value of pi: 3.137321\n",
            "Iteration 44: Estimated value of pi: 3.136509\n",
            "Iteration 45: Estimated value of pi: 3.136569\n",
            "Iteration 46: Estimated value of pi: 3.136774\n",
            "Iteration 47: Estimated value of pi: 3.137098\n",
            "Iteration 48: Estimated value of pi: 3.137308\n",
            "Iteration 49: Estimated value of pi: 3.136922\n",
            "Iteration 50: Estimated value of pi: 3.136904\n",
            "Iteration 51: Estimated value of pi: 3.136627\n",
            "Iteration 52: Estimated value of pi: 3.137200\n",
            "Iteration 53: Estimated value of pi: 3.136868\n",
            "Iteration 54: Estimated value of pi: 3.136667\n",
            "Iteration 55: Estimated value of pi: 3.136669\n",
            "Iteration 56: Estimated value of pi: 3.136521\n",
            "Iteration 57: Estimated value of pi: 3.136386\n",
            "Iteration 58: Estimated value of pi: 3.136517\n",
            "Iteration 59: Estimated value of pi: 3.137342\n",
            "Iteration 60: Estimated value of pi: 3.137593\n",
            "Iteration 61: Estimated value of pi: 3.137338\n",
            "Iteration 62: Estimated value of pi: 3.137026\n",
            "Iteration 63: Estimated value of pi: 3.137098\n",
            "Iteration 64: Estimated value of pi: 3.137169\n",
            "Iteration 65: Estimated value of pi: 3.137218\n",
            "Iteration 66: Estimated value of pi: 3.137479\n",
            "Iteration 67: Estimated value of pi: 3.137791\n",
            "Iteration 68: Estimated value of pi: 3.137688\n",
            "Iteration 69: Estimated value of pi: 3.137936\n",
            "Iteration 70: Estimated value of pi: 3.138297\n",
            "Iteration 71: Estimated value of pi: 3.138637\n",
            "Iteration 72: Estimated value of pi: 3.138711\n",
            "Iteration 73: Estimated value of pi: 3.138953\n",
            "Iteration 74: Estimated value of pi: 3.138724\n",
            "Iteration 75: Estimated value of pi: 3.138832\n",
            "Iteration 76: Estimated value of pi: 3.139126\n",
            "Iteration 77: Estimated value of pi: 3.138868\n",
            "Iteration 78: Estimated value of pi: 3.138882\n",
            "Iteration 79: Estimated value of pi: 3.138582\n",
            "Iteration 80: Estimated value of pi: 3.138730\n",
            "Iteration 81: Estimated value of pi: 3.138746\n",
            "Iteration 82: Estimated value of pi: 3.138561\n",
            "Iteration 83: Estimated value of pi: 3.138689\n",
            "Iteration 84: Estimated value of pi: 3.138490\n",
            "Iteration 85: Estimated value of pi: 3.138409\n",
            "Iteration 86: Estimated value of pi: 3.138130\n",
            "Iteration 87: Estimated value of pi: 3.137982\n",
            "Iteration 88: Estimated value of pi: 3.137941\n",
            "Iteration 89: Estimated value of pi: 3.138175\n",
            "Iteration 90: Estimated value of pi: 3.138062\n",
            "Iteration 91: Estimated value of pi: 3.138119\n",
            "Iteration 92: Estimated value of pi: 3.138100\n",
            "Iteration 93: Estimated value of pi: 3.137742\n",
            "Iteration 94: Estimated value of pi: 3.137779\n",
            "Iteration 95: Estimated value of pi: 3.138029\n",
            "Iteration 96: Estimated value of pi: 3.137871\n",
            "Iteration 97: Estimated value of pi: 3.137926\n",
            "Iteration 98: Estimated value of pi: 3.137833\n",
            "Iteration 99: Estimated value of pi: 3.137543\n",
            "Iteration 100: Estimated value of pi: 3.137596\n",
            "Final estimated value of pi after 100 iterations: 3.137596\n"
          ]
        },
        {
          "output_type": "display_data",
          "data": {
            "text/plain": [
              "<Figure size 432x288 with 1 Axes>"
            ],
            "image/png": "[encoded data removed]"
          },
          "metadata": {
            "needs_background": "light"
          }
        }
      ]
    }
  ]
}