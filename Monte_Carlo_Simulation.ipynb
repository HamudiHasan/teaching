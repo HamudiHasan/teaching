{
  "nbformat": 4,
  "nbformat_minor": 0,
  "metadata": {
    "colab": {
      "provenance": [],
      "authorship_tag": "ABX9TyMPR6GnCprjWc5qFNxSYDCN",
      "include_colab_link": true
    },
    "kernelspec": {
      "name": "python3",
      "display_name": "Python 3"
    },
    "language_info": {
      "name": "python"
    }
  },
  "cells": [
    {
      "cell_type": "markdown",
      "metadata": {
        "id": "view-in-github",
        "colab_type": "text"
      },
      "source": [
        "<a href=\"https://colab.research.google.com/github/HamudiHasan/teaching/blob/main/Monte_Carlo_Simulation.ipynb\" target=\"_parent\"><img src=\"https://colab.research.google.com/assets/colab-badge.svg\" alt=\"Open In Colab\"/></a>"
      ]
    },
    {
      "cell_type": "code",
      "execution_count": 6,
      "metadata": {
        "colab": {
          "base_uri": "https://localhost:8080/"
        },
        "id": "dV5CphRALbeb",
        "outputId": "ec8f5b74-deb1-4ccf-87bd-58673e5ba50e"
      },
      "outputs": [
        {
          "output_type": "stream",
          "name": "stdout",
          "text": [
            "Estimated value of pi: 3.14832\n"
          ]
        }
      ],
      "source": [
        "import random\n",
        "\n",
        "# Number of points to generate\n",
        "n = 100000\n",
        "\n",
        "# Count of points inside the circle\n",
        "count_inside = 0\n",
        "\n",
        "for i in range(n):\n",
        "    x = random.uniform(-1, 1)\n",
        "    y = random.uniform(-1, 1)\n",
        "    if x**2 + y**2 <= 1:\n",
        "        count_inside += 1\n",
        "\n",
        "pi_estimate = 4 * count_inside / n\n",
        "\n",
        "print(\"Estimated value of pi:\", pi_estimate)\n"
      ]
    },
    {
      "cell_type": "code",
      "source": [
        "import random\n",
        "import matplotlib.pyplot as plt\n",
        "\n",
        "# Number of points to generate\n",
        "n = 10000\n",
        "\n",
        "# Count of points inside the circle\n",
        "count_inside = 0\n",
        "\n",
        "# Generate n random points inside a square of side 2\n",
        "# and count how many fall inside the quarter-circle\n",
        "# of radius 1 centered at the origin\n",
        "x_inside = []\n",
        "y_inside = []\n",
        "x_outside = []\n",
        "y_outside = []\n",
        "\n",
        "for i in range(n):\n",
        "    x = random.uniform(-1, 1)\n",
        "    y = random.uniform(-1, 1)\n",
        "    if x**2 + y**2 <= 1:\n",
        "        count_inside += 1\n",
        "        x_inside.append(x)\n",
        "        y_inside.append(y)\n",
        "    else:\n",
        "        x_outside.append(x)\n",
        "        y_outside.append(y)\n",
        "\n",
        "# Estimate pi as the ratio of points inside the quarter-circle\n",
        "# to the total number of points generated, multiplied by 4\n",
        "pi_estimate = 4 * count_inside / n\n",
        "\n",
        "# Plot the results\n",
        "fig, ax = plt.subplots()\n",
        "circle = plt.Circle((0,0), 1, fill=False)\n",
        "ax.add_artist(circle)\n",
        "ax.scatter(x_inside, y_inside, color='red')\n",
        "ax.scatter(x_outside, y_outside, color='green')\n",
        "ax.set_xlim(-1.1, 1.1)\n",
        "ax.set_ylim(-1.1, 1.1)\n",
        "ax.set_aspect('equal', adjustable='box')\n",
        "plt.title(f\"Estimated value of pi: {pi_estimate:.4f}\")\n",
        "plt.show()\n"
      ],
      "metadata": {
        "colab": {
          "base_uri": "https://localhost:8080/",
          "height": 281
        },
        "id": "mSMaeWpLM9AC",
        "outputId": "48756ebc-9d70-4c72-914a-cb1b5d96d8a3"
      },
      "execution_count": 11,
      "outputs": [
        {
          "output_type": "display_data",
          "data": {
            "text/plain": [
              "<Figure size 432x288 with 1 Axes>"
            ],
            "image/png": "[encoded data removed]"
          },
          "metadata": {
            "needs_background": "light"
          }
        }
      ]
    }
  ]
}